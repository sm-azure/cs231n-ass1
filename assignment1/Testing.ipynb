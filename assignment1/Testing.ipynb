{
 "cells": [
  {
   "cell_type": "code",
   "execution_count": 1,
   "metadata": {},
   "outputs": [],
   "source": [
    "import numpy as np\n",
    "a = np.array([[-0.57098887, -0.4274751 , -0.38459931, -0.58593526],\n",
    "         [-0.22279713, -0.51723555,  0.82462029,  0.05319973],\n",
    "         [ 0.67492385, -0.69294472, -0.2531966 ,  0.01403201],\n",
    "         [ 0.41086611,  0.26374238,  0.32859738, -0.80848795]])"
   ]
  },
  {
   "cell_type": "code",
   "execution_count": 2,
   "metadata": {},
   "outputs": [
    {
     "name": "stdout",
     "output_type": "stream",
     "text": [
      "[[-0.57098887 -0.4274751  -0.38459931 -0.58593526]\n",
      " [-0.22279713 -0.51723555  0.82462029  0.05319973]\n",
      " [ 0.67492385 -0.69294472 -0.2531966   0.01403201]\n",
      " [ 0.41086611  0.26374238  0.32859738 -0.80848795]]\n"
     ]
    }
   ],
   "source": [
    "print(a)"
   ]
  },
  {
   "cell_type": "code",
   "execution_count": 3,
   "metadata": {},
   "outputs": [
    {
     "name": "stdout",
     "output_type": "stream",
     "text": [
      "[[-0.57098887 -0.4274751 ]\n",
      " [-0.22279713 -0.51723555]\n",
      " [ 0.67492385 -0.69294472]\n",
      " [ 0.41086611  0.26374238]]\n"
     ]
    }
   ],
   "source": [
    "print(a[:,:2])"
   ]
  },
  {
   "cell_type": "code",
   "execution_count": 4,
   "metadata": {},
   "outputs": [
    {
     "name": "stdout",
     "output_type": "stream",
     "text": [
      "[[3 0 1 2]\n",
      " [1 0 3 2]\n",
      " [1 2 3 0]\n",
      " [3 1 2 0]]\n"
     ]
    }
   ],
   "source": [
    "print(np.argsort(a, axis=1))"
   ]
  },
  {
   "cell_type": "code",
   "execution_count": null,
   "metadata": {},
   "outputs": [],
   "source": []
  }
 ],
 "metadata": {
  "kernelspec": {
   "display_name": "Python 3",
   "language": "python",
   "name": "python3"
  },
  "language_info": {
   "codemirror_mode": {
    "name": "ipython",
    "version": 3
   },
   "file_extension": ".py",
   "mimetype": "text/x-python",
   "name": "python",
   "nbconvert_exporter": "python",
   "pygments_lexer": "ipython3",
   "version": "3.6.5"
  }
 },
 "nbformat": 4,
 "nbformat_minor": 2
}
